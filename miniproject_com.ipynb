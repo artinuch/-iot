{
  "nbformat": 4,
  "nbformat_minor": 0,
  "metadata": {
    "colab": {
      "provenance": [],
      "authorship_tag": "ABX9TyPudqGrQDeF87gM6b/PR8Nq",
      "include_colab_link": true
    },
    "kernelspec": {
      "name": "python3",
      "display_name": "Python 3"
    },
    "language_info": {
      "name": "python"
    }
  },
  "cells": [
    {
      "cell_type": "markdown",
      "metadata": {
        "id": "view-in-github",
        "colab_type": "text"
      },
      "source": [
        "<a href=\"https://colab.research.google.com/github/artinuch/-iot/blob/main/miniproject_com.ipynb\" target=\"_parent\"><img src=\"https://colab.research.google.com/assets/colab-badge.svg\" alt=\"Open In Colab\"/></a>"
      ]
    },
    {
      "cell_type": "markdown",
      "source": [
        "โปรแกรมคำนวณหาค่า อัตราเร็ว ความเร็ว ความเร่ง"
      ],
      "metadata": {
        "id": "FKcDI_U5LDiR"
      }
    },
    {
      "cell_type": "code",
      "source": [
        "print(\"=\"*5,\"ยินดีต้นรับสู่โปรแกรมการคำนวณหาค่าอัตราเร็ว ความเร็ว และความเร่ง\",\"=\"*5)\n",
        "c= []\n",
        "f= []\n",
        "b= int\n",
        "e =int\n",
        "sumdis= 0\n",
        "sumtime=0\n",
        "sumkajad=0\n",
        "print(\"คุณต้องการหาค่าของอะไร\")\n",
        "print((\"อัตราเร็วพิมพ์หมายเลข1 \"))\n",
        "print((\"ความเร็วพิมพ์หมายเลข2 \"))\n",
        "print(\"ความเร่งพิมพ์หมายเลข3 \")\n",
        "a=int(input(\":\"))\n",
        "if a == 1 :\n",
        "  print(\"=\"*5,\"โปรแกรมคำนวณหาค่าอัตราเร็ว (ต้องมีค่าระยะทางทั้งหมดและเวลาทั้งหมด)\",\"=\"*5)\n",
        "  print(\"=\"*5,\"กรอกระยะทาง\",\"=\"*5)\n",
        "  while(b!=0):\n",
        "    b=int(input(\"จงใส่ระยะทางของคุณ(ถ้าใส่ระยะทางครบแล้ว กรอก 0เพื่อหาค่าอื่นต่อไป) :\"))\n",
        "    c.append(b)\n",
        "  del c[-1]\n",
        "  rodissum=len(c)\n",
        "  for d in range(rodissum):\n",
        "    sumdis = sumdis+c[d]\n",
        "  print(\"ระยะทางทั้งหมดคือ :\",sumdis)\n",
        "\n",
        "  print(\"=\"*5,\"กรอกเวลา\",\"=\"*5)\n",
        "  while(e!=0):\n",
        "    e=int(input(\"จงใส่เวลาทั้งหมดของคุณ(ถ้าใส่เวลาครบแล้ว กรอก 0 เพื่อหาค่าอื่นต่อไป) :\"))\n",
        "    f.append(e)\n",
        "  del f[-1]\n",
        "  rotimesum=len(f)\n",
        "  for g in range(rotimesum) :\n",
        "    sumtime = sumtime+f[g]\n",
        "  print(\"เวลาทั้งหมดของคุณคือ :\",sumtime)\n",
        "  print(\"<\"*5,\"อัตราเร็วของคุณคือ\",sumdis/sumtime,\"m/s\",\">\"*5)\n",
        "\n",
        "if a == 2 :\n",
        "  print(\"=\"*5,\"โปรแกรมคำนวณหาค่าความเร็ว(ต้องมีค่าระยะค่าขนาดของการกระจัดและเวลา)\",\"=\"*5)\n",
        "  print(\"=\"*5,\"กรอกขนาดของการกระจัด\",\"=\"*5)\n",
        "  while(b!=0):\n",
        "    b=int(input(\"จงใส่ขนาดของการกระจัดทั้งหมด(กรอก 0 เพื่อหาค่าอื่นต่อไป) :\"))\n",
        "    c.append(b)\n",
        "  del c[-1]\n",
        "  rokajad=len(c)\n",
        "  for d in range(rokajad) :\n",
        "    sumkajad = sumkajad + c[d]\n",
        "  print(\"ขนาดการกระจัดทั้งหมดคือ :\",sumkajad)\n",
        "\n",
        "  print(\"=\"*5,\"กรอกเวลาทั้งหมด\",\"=\"*5)\n",
        "  while(e!=0):\n",
        "    e=int(input(\"จงใส่เวลาทั้งหมด(กรอก0เพื่อหาค่าอื่นต่อไป) :\"))\n",
        "    f.append(e)\n",
        "  del f[-1]\n",
        "  rotime=len(f)\n",
        "  for g in range(rotime):\n",
        "    sumtime = sumtime+f[g]\n",
        "  print(\"ระยะเวลาทั้งหมดคือ :\",sumtime)\n",
        "  print(\"<\"*5,\"ความเร็วของคุณคือ\",sumkajad/sumtime,\"m/s\",\">\"*5)\n",
        "if a==3 :\n",
        "  print(\"=\"*5,\"โปรแกรมคำนวณค่าความเร่ง(ต้องมีค่าความเร็วต้น ความเร็วปลาย เวลาเริ่มต้น และเวลาสุดท้าย)\",\"=\"*5)\n",
        "  print(\"=\"*5,\"คำนวณหาค่าความเร็วที่เปลี่ยนไป\",\"=\"*5)\n",
        "  b=int(input(\"ค่าความเร็วต้นของคุณคือ :\"))\n",
        "  c=int(input(\"ค่าความเร็วปลายของคุณคือ :\"))\n",
        "  avrv=(c-b)\n",
        "  print(\"ความเร็วที่เปลี่ยนไปคือ :\",avrv)\n",
        "\n",
        "  print(\"=\"*5,\"คำนวณหาเวลาที่ความเร็วเปลี่ยน\",\"=\"*5)\n",
        "  d=int(input(\"เวลาเริ่มต้นของคุณคือ :\"))\n",
        "  e=int(input(\"เวลาสุดท้ายของคุณคือ :\"))\n",
        "  avrt=(e-d)\n",
        "  print(\"เวลาที่ความเร็วเปลี่ยนแปลงคือ :\",avrt)\n",
        "  print(\"<\"*5,\"ความเร่งของคุณคือ:\",avrv/avrt,\" m/s²\",\">\"*5)\n",
        "else :\n",
        "  print(\"คุณกรอกเลขผิด โปรดลองใหม่อีกครั้ง\")\n",
        "\n",
        "\n"
      ],
      "metadata": {
        "colab": {
          "base_uri": "https://localhost:8080/"
        },
        "id": "paPpCLrgMo4h",
        "outputId": "3a83117f-52aa-49f5-8576-62bcac9a9d5b"
      },
      "execution_count": 57,
      "outputs": [
        {
          "output_type": "stream",
          "name": "stdout",
          "text": [
            "===== ยินดีต้นรับสู่โปรแกรมการคำนวณหาค่าอัตราเร็ว ความเร็ว และความเร่ง =====\n",
            "คุณต้องการหาค่าของอะไร\n",
            "อัตราเร็วพิมพ์หมายเลข1 \n",
            "ความเร็วพิมพ์หมายเลข2 \n",
            "ความเร่งพิมพ์หมายเลข3 \n",
            ":6\n",
            "คุณกรอกเลขผิด โปรดลองใหม่อีกครั้ง\n"
          ]
        }
      ]
    }
  ]
}